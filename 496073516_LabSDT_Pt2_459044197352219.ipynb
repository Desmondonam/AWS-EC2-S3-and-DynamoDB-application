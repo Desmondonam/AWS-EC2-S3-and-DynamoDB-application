{
  "cells": [
    {
      "cell_type": "markdown",
      "metadata": {
        "id": "view-in-github",
        "colab_type": "text"
      },
      "source": [
        "<a href=\"https://colab.research.google.com/github/Desmondonam/AWS-EC2-S3-and-DynamoDB-application/blob/main/496073516_LabSDT_Pt2_459044197352219.ipynb\" target=\"_parent\"><img src=\"https://colab.research.google.com/assets/colab-badge.svg\" alt=\"Open In Colab\"/></a>"
      ]
    },
    {
      "cell_type": "markdown",
      "source": [
        "# To run the codes, ensure that you are connected to data that is provided, and the module named sdt_exp is working."
      ],
      "metadata": {
        "id": "5ql50pkK-bBz"
      }
    },
    {
      "cell_type": "code",
      "source": [
        "!pip install pingouin\n"
      ],
      "metadata": {
        "colab": {
          "base_uri": "https://localhost:8080/"
        },
        "id": "DXdKvSpm2nnl",
        "outputId": "691c6f84-a53e-401a-89d6-cafd24e7deda"
      },
      "execution_count": null,
      "outputs": [
        {
          "output_type": "stream",
          "name": "stdout",
          "text": [
            "Looking in indexes: https://pypi.org/simple, https://us-python.pkg.dev/colab-wheels/public/simple/\n",
            "Collecting pingouin\n",
            "  Downloading pingouin-0.5.2.tar.gz (185 kB)\n",
            "\u001b[K     |████████████████████████████████| 185 kB 34.0 MB/s \n",
            "\u001b[?25hRequirement already satisfied: numpy>=1.19 in /usr/local/lib/python3.8/dist-packages (from pingouin) (1.21.6)\n",
            "Requirement already satisfied: scipy>=1.7 in /usr/local/lib/python3.8/dist-packages (from pingouin) (1.7.3)\n",
            "Requirement already satisfied: pandas>=1.0 in /usr/local/lib/python3.8/dist-packages (from pingouin) (1.3.5)\n",
            "Requirement already satisfied: matplotlib>=3.0.2 in /usr/local/lib/python3.8/dist-packages (from pingouin) (3.2.2)\n",
            "Requirement already satisfied: seaborn>=0.11 in /usr/local/lib/python3.8/dist-packages (from pingouin) (0.11.2)\n",
            "Collecting statsmodels>=0.13\n",
            "  Downloading statsmodels-0.13.5-cp38-cp38-manylinux_2_17_x86_64.manylinux2014_x86_64.whl (9.9 MB)\n",
            "\u001b[K     |████████████████████████████████| 9.9 MB 69.0 MB/s \n",
            "\u001b[?25hRequirement already satisfied: scikit-learn<1.1.0 in /usr/local/lib/python3.8/dist-packages (from pingouin) (1.0.2)\n",
            "Collecting pandas_flavor>=0.2.0\n",
            "  Downloading pandas_flavor-0.3.0-py3-none-any.whl (6.3 kB)\n",
            "Collecting outdated\n",
            "  Downloading outdated-0.2.2-py2.py3-none-any.whl (7.5 kB)\n",
            "Requirement already satisfied: tabulate in /usr/local/lib/python3.8/dist-packages (from pingouin) (0.8.10)\n",
            "Requirement already satisfied: cycler>=0.10 in /usr/local/lib/python3.8/dist-packages (from matplotlib>=3.0.2->pingouin) (0.11.0)\n",
            "Requirement already satisfied: python-dateutil>=2.1 in /usr/local/lib/python3.8/dist-packages (from matplotlib>=3.0.2->pingouin) (2.8.2)\n",
            "Requirement already satisfied: pyparsing!=2.0.4,!=2.1.2,!=2.1.6,>=2.0.1 in /usr/local/lib/python3.8/dist-packages (from matplotlib>=3.0.2->pingouin) (3.0.9)\n",
            "Requirement already satisfied: kiwisolver>=1.0.1 in /usr/local/lib/python3.8/dist-packages (from matplotlib>=3.0.2->pingouin) (1.4.4)\n",
            "Requirement already satisfied: pytz>=2017.3 in /usr/local/lib/python3.8/dist-packages (from pandas>=1.0->pingouin) (2022.6)\n",
            "Collecting lazy-loader==0.1rc2\n",
            "  Downloading lazy_loader-0.1rc2-py3-none-any.whl (5.1 kB)\n",
            "Requirement already satisfied: xarray in /usr/local/lib/python3.8/dist-packages (from pandas_flavor>=0.2.0->pingouin) (0.20.2)\n",
            "Requirement already satisfied: six>=1.5 in /usr/local/lib/python3.8/dist-packages (from python-dateutil>=2.1->matplotlib>=3.0.2->pingouin) (1.15.0)\n",
            "Requirement already satisfied: joblib>=0.11 in /usr/local/lib/python3.8/dist-packages (from scikit-learn<1.1.0->pingouin) (1.2.0)\n",
            "Requirement already satisfied: threadpoolctl>=2.0.0 in /usr/local/lib/python3.8/dist-packages (from scikit-learn<1.1.0->pingouin) (3.1.0)\n",
            "Requirement already satisfied: packaging>=21.3 in /usr/local/lib/python3.8/dist-packages (from statsmodels>=0.13->pingouin) (21.3)\n",
            "Requirement already satisfied: patsy>=0.5.2 in /usr/local/lib/python3.8/dist-packages (from statsmodels>=0.13->pingouin) (0.5.3)\n",
            "Requirement already satisfied: setuptools>=44 in /usr/local/lib/python3.8/dist-packages (from outdated->pingouin) (57.4.0)\n",
            "Collecting littleutils\n",
            "  Downloading littleutils-0.2.2.tar.gz (6.6 kB)\n",
            "Requirement already satisfied: requests in /usr/local/lib/python3.8/dist-packages (from outdated->pingouin) (2.23.0)\n",
            "Requirement already satisfied: chardet<4,>=3.0.2 in /usr/local/lib/python3.8/dist-packages (from requests->outdated->pingouin) (3.0.4)\n",
            "Requirement already satisfied: idna<3,>=2.5 in /usr/local/lib/python3.8/dist-packages (from requests->outdated->pingouin) (2.10)\n",
            "Requirement already satisfied: urllib3!=1.25.0,!=1.25.1,<1.26,>=1.21.1 in /usr/local/lib/python3.8/dist-packages (from requests->outdated->pingouin) (1.24.3)\n",
            "Requirement already satisfied: certifi>=2017.4.17 in /usr/local/lib/python3.8/dist-packages (from requests->outdated->pingouin) (2022.9.24)\n",
            "Building wheels for collected packages: pingouin, littleutils\n",
            "  Building wheel for pingouin (setup.py) ... \u001b[?25l\u001b[?25hdone\n",
            "  Created wheel for pingouin: filename=pingouin-0.5.2-py3-none-any.whl size=196208 sha256=9d9a497fa2fc8ed44d74e6c42cf66bdecbf44e66e552a1b05b5f3955eb728a20\n",
            "  Stored in directory: /root/.cache/pip/wheels/75/b0/89/f6866fc5accea9bec04f4c9f2a242520d6e8e7b8fcf89e139c\n",
            "  Building wheel for littleutils (setup.py) ... \u001b[?25l\u001b[?25hdone\n",
            "  Created wheel for littleutils: filename=littleutils-0.2.2-py3-none-any.whl size=7047 sha256=a54c41b6c0db970230a56743ebad874e7e441197f9d67494c807937c06a96521\n",
            "  Stored in directory: /root/.cache/pip/wheels/6a/33/c4/0ef84d7f5568c2823e3d63a6e08988852fb9e4bc822034870a\n",
            "Successfully built pingouin littleutils\n",
            "Installing collected packages: littleutils, lazy-loader, statsmodels, pandas-flavor, outdated, pingouin\n",
            "  Attempting uninstall: statsmodels\n",
            "    Found existing installation: statsmodels 0.12.2\n",
            "    Uninstalling statsmodels-0.12.2:\n",
            "      Successfully uninstalled statsmodels-0.12.2\n",
            "Successfully installed lazy-loader-0.1rc2 littleutils-0.2.2 outdated-0.2.2 pandas-flavor-0.3.0 pingouin-0.5.2 statsmodels-0.13.5\n"
          ]
        }
      ]
    },
    {
      "cell_type": "code",
      "source": [
        "!pip install ipycanvas"
      ],
      "metadata": {
        "colab": {
          "base_uri": "https://localhost:8080/"
        },
        "id": "6iICVYiF2_mL",
        "outputId": "3e25bbde-a21b-494a-98e3-c83dd0142c17"
      },
      "execution_count": null,
      "outputs": [
        {
          "output_type": "stream",
          "name": "stdout",
          "text": [
            "Looking in indexes: https://pypi.org/simple, https://us-python.pkg.dev/colab-wheels/public/simple/\n",
            "Collecting ipycanvas\n",
            "  Downloading ipycanvas-0.13.1-py2.py3-none-any.whl (255 kB)\n",
            "\u001b[K     |████████████████████████████████| 255 kB 29.4 MB/s \n",
            "\u001b[?25hRequirement already satisfied: ipywidgets<9,>=7.6.0 in /usr/local/lib/python3.8/dist-packages (from ipycanvas) (7.7.1)\n",
            "Requirement already satisfied: numpy in /usr/local/lib/python3.8/dist-packages (from ipycanvas) (1.21.6)\n",
            "Requirement already satisfied: pillow>=6.0 in /usr/local/lib/python3.8/dist-packages (from ipycanvas) (7.1.2)\n",
            "Requirement already satisfied: jupyterlab-widgets>=1.0.0 in /usr/local/lib/python3.8/dist-packages (from ipywidgets<9,>=7.6.0->ipycanvas) (3.0.3)\n",
            "Requirement already satisfied: widgetsnbextension~=3.6.0 in /usr/local/lib/python3.8/dist-packages (from ipywidgets<9,>=7.6.0->ipycanvas) (3.6.1)\n",
            "Requirement already satisfied: ipykernel>=4.5.1 in /usr/local/lib/python3.8/dist-packages (from ipywidgets<9,>=7.6.0->ipycanvas) (5.3.4)\n",
            "Requirement already satisfied: ipython>=4.0.0 in /usr/local/lib/python3.8/dist-packages (from ipywidgets<9,>=7.6.0->ipycanvas) (7.9.0)\n",
            "Requirement already satisfied: ipython-genutils~=0.2.0 in /usr/local/lib/python3.8/dist-packages (from ipywidgets<9,>=7.6.0->ipycanvas) (0.2.0)\n",
            "Requirement already satisfied: traitlets>=4.3.1 in /usr/local/lib/python3.8/dist-packages (from ipywidgets<9,>=7.6.0->ipycanvas) (5.6.0)\n",
            "Requirement already satisfied: tornado>=4.2 in /usr/local/lib/python3.8/dist-packages (from ipykernel>=4.5.1->ipywidgets<9,>=7.6.0->ipycanvas) (6.0.4)\n",
            "Requirement already satisfied: jupyter-client in /usr/local/lib/python3.8/dist-packages (from ipykernel>=4.5.1->ipywidgets<9,>=7.6.0->ipycanvas) (6.1.12)\n",
            "Requirement already satisfied: backcall in /usr/local/lib/python3.8/dist-packages (from ipython>=4.0.0->ipywidgets<9,>=7.6.0->ipycanvas) (0.2.0)\n",
            "Requirement already satisfied: setuptools>=18.5 in /usr/local/lib/python3.8/dist-packages (from ipython>=4.0.0->ipywidgets<9,>=7.6.0->ipycanvas) (57.4.0)\n",
            "Requirement already satisfied: pexpect in /usr/local/lib/python3.8/dist-packages (from ipython>=4.0.0->ipywidgets<9,>=7.6.0->ipycanvas) (4.8.0)\n",
            "Collecting jedi>=0.10\n",
            "  Downloading jedi-0.18.2-py2.py3-none-any.whl (1.6 MB)\n",
            "\u001b[K     |████████████████████████████████| 1.6 MB 66.9 MB/s \n",
            "\u001b[?25hRequirement already satisfied: prompt-toolkit<2.1.0,>=2.0.0 in /usr/local/lib/python3.8/dist-packages (from ipython>=4.0.0->ipywidgets<9,>=7.6.0->ipycanvas) (2.0.10)\n",
            "Requirement already satisfied: pygments in /usr/local/lib/python3.8/dist-packages (from ipython>=4.0.0->ipywidgets<9,>=7.6.0->ipycanvas) (2.6.1)\n",
            "Requirement already satisfied: decorator in /usr/local/lib/python3.8/dist-packages (from ipython>=4.0.0->ipywidgets<9,>=7.6.0->ipycanvas) (4.4.2)\n",
            "Requirement already satisfied: pickleshare in /usr/local/lib/python3.8/dist-packages (from ipython>=4.0.0->ipywidgets<9,>=7.6.0->ipycanvas) (0.7.5)\n",
            "Requirement already satisfied: parso<0.9.0,>=0.8.0 in /usr/local/lib/python3.8/dist-packages (from jedi>=0.10->ipython>=4.0.0->ipywidgets<9,>=7.6.0->ipycanvas) (0.8.3)\n",
            "Requirement already satisfied: six>=1.9.0 in /usr/local/lib/python3.8/dist-packages (from prompt-toolkit<2.1.0,>=2.0.0->ipython>=4.0.0->ipywidgets<9,>=7.6.0->ipycanvas) (1.15.0)\n",
            "Requirement already satisfied: wcwidth in /usr/local/lib/python3.8/dist-packages (from prompt-toolkit<2.1.0,>=2.0.0->ipython>=4.0.0->ipywidgets<9,>=7.6.0->ipycanvas) (0.2.5)\n",
            "Requirement already satisfied: notebook>=4.4.1 in /usr/local/lib/python3.8/dist-packages (from widgetsnbextension~=3.6.0->ipywidgets<9,>=7.6.0->ipycanvas) (5.7.16)\n",
            "Requirement already satisfied: jinja2<=3.0.0 in /usr/local/lib/python3.8/dist-packages (from notebook>=4.4.1->widgetsnbextension~=3.6.0->ipywidgets<9,>=7.6.0->ipycanvas) (2.11.3)\n",
            "Requirement already satisfied: terminado>=0.8.1 in /usr/local/lib/python3.8/dist-packages (from notebook>=4.4.1->widgetsnbextension~=3.6.0->ipywidgets<9,>=7.6.0->ipycanvas) (0.13.3)\n",
            "Requirement already satisfied: jupyter-core>=4.4.0 in /usr/local/lib/python3.8/dist-packages (from notebook>=4.4.1->widgetsnbextension~=3.6.0->ipywidgets<9,>=7.6.0->ipycanvas) (5.1.0)\n",
            "Requirement already satisfied: Send2Trash in /usr/local/lib/python3.8/dist-packages (from notebook>=4.4.1->widgetsnbextension~=3.6.0->ipywidgets<9,>=7.6.0->ipycanvas) (1.8.0)\n",
            "Requirement already satisfied: pyzmq>=17 in /usr/local/lib/python3.8/dist-packages (from notebook>=4.4.1->widgetsnbextension~=3.6.0->ipywidgets<9,>=7.6.0->ipycanvas) (23.2.1)\n",
            "Requirement already satisfied: prometheus-client in /usr/local/lib/python3.8/dist-packages (from notebook>=4.4.1->widgetsnbextension~=3.6.0->ipywidgets<9,>=7.6.0->ipycanvas) (0.15.0)\n",
            "Requirement already satisfied: nbconvert<6.0 in /usr/local/lib/python3.8/dist-packages (from notebook>=4.4.1->widgetsnbextension~=3.6.0->ipywidgets<9,>=7.6.0->ipycanvas) (5.6.1)\n",
            "Requirement already satisfied: nbformat in /usr/local/lib/python3.8/dist-packages (from notebook>=4.4.1->widgetsnbextension~=3.6.0->ipywidgets<9,>=7.6.0->ipycanvas) (5.7.0)\n",
            "Requirement already satisfied: MarkupSafe>=0.23 in /usr/local/lib/python3.8/dist-packages (from jinja2<=3.0.0->notebook>=4.4.1->widgetsnbextension~=3.6.0->ipywidgets<9,>=7.6.0->ipycanvas) (2.0.1)\n",
            "Requirement already satisfied: python-dateutil>=2.1 in /usr/local/lib/python3.8/dist-packages (from jupyter-client->ipykernel>=4.5.1->ipywidgets<9,>=7.6.0->ipycanvas) (2.8.2)\n",
            "Requirement already satisfied: platformdirs>=2.5 in /usr/local/lib/python3.8/dist-packages (from jupyter-core>=4.4.0->notebook>=4.4.1->widgetsnbextension~=3.6.0->ipywidgets<9,>=7.6.0->ipycanvas) (2.5.4)\n",
            "Requirement already satisfied: testpath in /usr/local/lib/python3.8/dist-packages (from nbconvert<6.0->notebook>=4.4.1->widgetsnbextension~=3.6.0->ipywidgets<9,>=7.6.0->ipycanvas) (0.6.0)\n",
            "Requirement already satisfied: pandocfilters>=1.4.1 in /usr/local/lib/python3.8/dist-packages (from nbconvert<6.0->notebook>=4.4.1->widgetsnbextension~=3.6.0->ipywidgets<9,>=7.6.0->ipycanvas) (1.5.0)\n",
            "Requirement already satisfied: mistune<2,>=0.8.1 in /usr/local/lib/python3.8/dist-packages (from nbconvert<6.0->notebook>=4.4.1->widgetsnbextension~=3.6.0->ipywidgets<9,>=7.6.0->ipycanvas) (0.8.4)\n",
            "Requirement already satisfied: bleach in /usr/local/lib/python3.8/dist-packages (from nbconvert<6.0->notebook>=4.4.1->widgetsnbextension~=3.6.0->ipywidgets<9,>=7.6.0->ipycanvas) (5.0.1)\n",
            "Requirement already satisfied: defusedxml in /usr/local/lib/python3.8/dist-packages (from nbconvert<6.0->notebook>=4.4.1->widgetsnbextension~=3.6.0->ipywidgets<9,>=7.6.0->ipycanvas) (0.7.1)\n",
            "Requirement already satisfied: entrypoints>=0.2.2 in /usr/local/lib/python3.8/dist-packages (from nbconvert<6.0->notebook>=4.4.1->widgetsnbextension~=3.6.0->ipywidgets<9,>=7.6.0->ipycanvas) (0.4)\n",
            "Requirement already satisfied: fastjsonschema in /usr/local/lib/python3.8/dist-packages (from nbformat->notebook>=4.4.1->widgetsnbextension~=3.6.0->ipywidgets<9,>=7.6.0->ipycanvas) (2.16.2)\n",
            "Requirement already satisfied: jsonschema>=2.6 in /usr/local/lib/python3.8/dist-packages (from nbformat->notebook>=4.4.1->widgetsnbextension~=3.6.0->ipywidgets<9,>=7.6.0->ipycanvas) (4.3.3)\n",
            "Requirement already satisfied: pyrsistent!=0.17.0,!=0.17.1,!=0.17.2,>=0.14.0 in /usr/local/lib/python3.8/dist-packages (from jsonschema>=2.6->nbformat->notebook>=4.4.1->widgetsnbextension~=3.6.0->ipywidgets<9,>=7.6.0->ipycanvas) (0.19.2)\n",
            "Requirement already satisfied: importlib-resources>=1.4.0 in /usr/local/lib/python3.8/dist-packages (from jsonschema>=2.6->nbformat->notebook>=4.4.1->widgetsnbextension~=3.6.0->ipywidgets<9,>=7.6.0->ipycanvas) (5.10.0)\n",
            "Requirement already satisfied: attrs>=17.4.0 in /usr/local/lib/python3.8/dist-packages (from jsonschema>=2.6->nbformat->notebook>=4.4.1->widgetsnbextension~=3.6.0->ipywidgets<9,>=7.6.0->ipycanvas) (22.1.0)\n",
            "Requirement already satisfied: zipp>=3.1.0 in /usr/local/lib/python3.8/dist-packages (from importlib-resources>=1.4.0->jsonschema>=2.6->nbformat->notebook>=4.4.1->widgetsnbextension~=3.6.0->ipywidgets<9,>=7.6.0->ipycanvas) (3.11.0)\n",
            "Requirement already satisfied: ptyprocess in /usr/local/lib/python3.8/dist-packages (from terminado>=0.8.1->notebook>=4.4.1->widgetsnbextension~=3.6.0->ipywidgets<9,>=7.6.0->ipycanvas) (0.7.0)\n",
            "Requirement already satisfied: webencodings in /usr/local/lib/python3.8/dist-packages (from bleach->nbconvert<6.0->notebook>=4.4.1->widgetsnbextension~=3.6.0->ipywidgets<9,>=7.6.0->ipycanvas) (0.5.1)\n",
            "Installing collected packages: jedi, ipycanvas\n",
            "Successfully installed ipycanvas-0.13.1 jedi-0.18.2\n"
          ]
        }
      ]
    },
    {
      "cell_type": "code",
      "source": [
        "!pip install sdt_exp"
      ],
      "metadata": {
        "colab": {
          "base_uri": "https://localhost:8080/"
        },
        "id": "DYunbrHK3Pfk",
        "outputId": "7657cc5c-809f-4594-aab8-2ad69264717a"
      },
      "execution_count": null,
      "outputs": [
        {
          "output_type": "stream",
          "name": "stdout",
          "text": [
            "Looking in indexes: https://pypi.org/simple, https://us-python.pkg.dev/colab-wheels/public/simple/\n",
            "\u001b[31mERROR: Could not find a version that satisfies the requirement sdt_exp (from versions: none)\u001b[0m\n",
            "\u001b[31mERROR: No matching distribution found for sdt_exp\u001b[0m\n"
          ]
        }
      ]
    },
    {
      "cell_type": "code",
      "execution_count": null,
      "metadata": {
        "tags": [
          "hide_input"
        ],
        "id": "4geT9Qai2LAS"
      },
      "outputs": [],
      "source": [
        "from IPython.core.display import HTML, Markdown, display\n",
        "\n",
        "import numpy as np\n",
        "import numpy.random as npr\n",
        "import pandas as pd\n",
        "import seaborn as sns\n",
        "import matplotlib.pyplot as plt\n",
        "import scipy.stats as stats\n",
        "import statsmodels.formula.api as smf\n",
        "import pingouin as pg\n",
        "import math\n",
        "\n",
        "import ipywidgets as widgets\n",
        "\n",
        "import ipywidgets as widgets\n",
        "from IPython.display import display, Markdown, clear_output\n",
        "import numpy as np\n",
        "import pandas as pd\n",
        "from datetime import datetime\n",
        "from ipycanvas import Canvas, hold_canvas\n",
        "\n",
        "#from sdt_exp import *\n",
        "\n",
        "# Enable plots inside the Jupyter Notebook\n",
        "%matplotlib inline"
      ]
    },
    {
      "cell_type": "markdown",
      "metadata": {
        "id": "o9DnEh8K2LAh"
      },
      "source": [
        "# Signal detection: Part 2"
      ]
    },
    {
      "cell_type": "markdown",
      "metadata": {
        "tags": [
          "popout"
        ],
        "id": "07OF2W2E2LAn"
      },
      "source": [
        "Authored by *Todd Gureckis*."
      ]
    },
    {
      "cell_type": "markdown",
      "metadata": {
        "id": "mRRHnyQA2LAp"
      },
      "source": [
        "In the previous lab you learned some of the basic analysis steps involved in signal detection analysis.  In particular, we learned how to compute a statistic we called d' (dprime) and c (bias/criterion).  These variables are commonly used in studies of perception to understand the performance of a subject on a task independent of their response bias (here meaning tendency to give a particular response).  \n",
        "\n",
        "In the second part of the lab we will analyze data from a simple detection experiment you will have just conducted on yourselves.  You will get to put your python knowledge into practice by reading in the data analyzing it."
      ]
    },
    {
      "cell_type": "markdown",
      "metadata": {
        "id": "NVLamFJe2LAr"
      },
      "source": [
        "## The Experiment Instructions"
      ]
    },
    {
      "cell_type": "markdown",
      "metadata": {
        "id": "qFcCASyU2LAt"
      },
      "source": [
        "In this experiment you job will be similar to that of a doctor.  There are going to be small \"clusters\" of points which we might think of as a tumor or some other biological measurement.  You can use the interaction element below to examine a few of these \"clusters\".\n",
        "\n",
        "Try using the widget below to slide between a lot of dots within a cluster and a small number.  Sweep back and forth and get an idea of what a \"cluster\" could look like.  The dots are spread out to a certain degree as you can see more clearly with the large number of dots."
      ]
    },
    {
      "cell_type": "code",
      "execution_count": null,
      "metadata": {
        "colab": {
          "base_uri": "https://localhost:8080/",
          "height": 371,
          "referenced_widgets": [
            "cfd1d2a29ea44671903760fe5aede67f",
            "d602bcadaff74c688ea7f0ef3d361ac6",
            "604dc9a2e4a74e4aa6ad04c8f1b4539a",
            "3a202ecb8a7d411f8752bd9b3a044097",
            "93c38e52871148f9b42aa7347ce99f74",
            "54711469d8ec43cf99bee2cd779fa17b",
            "ae0c5c47f5fb48cbae4e680d7a3f04f4"
          ]
        },
        "id": "DKtgUQbb2LAv",
        "outputId": "03f13173-4d3d-44f2-dfff-bf56b43381e0"
      },
      "outputs": [
        {
          "output_type": "display_data",
          "data": {
            "text/plain": [
              "interactive(children=(IntSlider(value=36, description='dots', max=75, min=1, step=5), Output()), _dom_classes=…"
            ],
            "application/vnd.jupyter.widget-view+json": {
              "version_major": 2,
              "version_minor": 0,
              "model_id": "cfd1d2a29ea44671903760fe5aede67f"
            }
          },
          "metadata": {}
        }
      ],
      "source": [
        "@widgets.interact(dots=(1,75, 5))\n",
        "def draw(dots):\n",
        "    return draw_stimulus(include_source=True, n_background_dots=0, n_source_dots=dots, source_sd=10, source_border=20, width=400, height=400)"
      ]
    },
    {
      "cell_type": "markdown",
      "metadata": {
        "id": "kyEsBIMJ2LA1"
      },
      "source": [
        "The challenge is that these dots are going to be hidden in a background of \"noise\" which is other dots unrelated to the cluster.  Here is an example of the background with no cluster present:"
      ]
    },
    {
      "cell_type": "code",
      "execution_count": null,
      "metadata": {
        "colab": {
          "base_uri": "https://localhost:8080/",
          "height": 183
        },
        "id": "2-CNVkqI2LA3",
        "outputId": "446fa2ff-e2d3-42e8-8f9a-e20dde30c84c"
      },
      "outputs": [
        {
          "output_type": "error",
          "ename": "NameError",
          "evalue": "ignored",
          "traceback": [
            "\u001b[0;31m---------------------------------------------------------------------------\u001b[0m",
            "\u001b[0;31mNameError\u001b[0m                                 Traceback (most recent call last)",
            "\u001b[0;32m<ipython-input-9-61a8e34ac38c>\u001b[0m in \u001b[0;36m<module>\u001b[0;34m\u001b[0m\n\u001b[0;32m----> 1\u001b[0;31m \u001b[0mdraw_stimulus\u001b[0m\u001b[0;34m(\u001b[0m\u001b[0minclude_source\u001b[0m\u001b[0;34m=\u001b[0m\u001b[0;32mFalse\u001b[0m\u001b[0;34m,\u001b[0m \u001b[0mn_background_dots\u001b[0m\u001b[0;34m=\u001b[0m\u001b[0;36m30\u001b[0m\u001b[0;34m*\u001b[0m\u001b[0;36m30\u001b[0m\u001b[0;34m,\u001b[0m \u001b[0mn_source_dots\u001b[0m\u001b[0;34m=\u001b[0m\u001b[0;36m0\u001b[0m\u001b[0;34m,\u001b[0m \u001b[0msource_sd\u001b[0m\u001b[0;34m=\u001b[0m\u001b[0;36m10\u001b[0m\u001b[0;34m,\u001b[0m \u001b[0msource_border\u001b[0m\u001b[0;34m=\u001b[0m\u001b[0;36m20\u001b[0m\u001b[0;34m,\u001b[0m \u001b[0mwidth\u001b[0m\u001b[0;34m=\u001b[0m\u001b[0;36m400\u001b[0m\u001b[0;34m,\u001b[0m \u001b[0mheight\u001b[0m\u001b[0;34m=\u001b[0m\u001b[0;36m400\u001b[0m\u001b[0;34m)\u001b[0m\u001b[0;34m\u001b[0m\u001b[0;34m\u001b[0m\u001b[0m\n\u001b[0m",
            "\u001b[0;31mNameError\u001b[0m: name 'draw_stimulus' is not defined"
          ]
        }
      ],
      "source": [
        "draw_stimulus(include_source=False, n_background_dots=30*30, n_source_dots=0, source_sd=10, source_border=20, width=400, height=400)"
      ]
    },
    {
      "cell_type": "markdown",
      "metadata": {
        "id": "kS4Y2VE62LA5"
      },
      "source": [
        "You can run the above cell many times to see different example patterns when the cluster is absent.\n",
        "\n",
        "Next here is an example of a very large cluster hidden in the background noise:"
      ]
    },
    {
      "cell_type": "code",
      "execution_count": null,
      "metadata": {
        "colab": {
          "referenced_widgets": [
            "e40cc44dead3411aa95b3adf5162abc1"
          ]
        },
        "id": "7v9oqeot2LA7",
        "outputId": "ca30b2e6-1d65-4b83-c4a6-1915ba143320"
      },
      "outputs": [
        {
          "data": {
            "application/vnd.jupyter.widget-view+json": {
              "model_id": "e40cc44dead3411aa95b3adf5162abc1",
              "version_major": 2,
              "version_minor": 0
            },
            "text/plain": [
              "Canvas(height=425, layout=Layout(grid_area='canvas'), width=425)"
            ]
          },
          "execution_count": 12,
          "metadata": {},
          "output_type": "execute_result"
        }
      ],
      "source": [
        "draw_stimulus(include_source=True, n_background_dots=30*30, n_source_dots=60, source_sd=10, source_border=20, width=400, height=400)"
      ]
    },
    {
      "cell_type": "markdown",
      "metadata": {
        "id": "kwS8FBqJ2LA9"
      },
      "source": [
        "From this example you can see a very clear \"cluster\" or tumor in the stimulus.  Here is one where there is a cluster/tumor but it is a little less obvious:"
      ]
    },
    {
      "cell_type": "code",
      "execution_count": null,
      "metadata": {
        "colab": {
          "referenced_widgets": [
            "d430fab44c02485aa3fc2ab01ace3a42"
          ]
        },
        "id": "1ffY4O3j2LA-",
        "outputId": "d215911a-d4c9-4ddb-c837-b7d029d261e9"
      },
      "outputs": [
        {
          "data": {
            "application/vnd.jupyter.widget-view+json": {
              "model_id": "d430fab44c02485aa3fc2ab01ace3a42",
              "version_major": 2,
              "version_minor": 0
            },
            "text/plain": [
              "Canvas(height=425, layout=Layout(grid_area='canvas'), width=425)"
            ]
          },
          "execution_count": 13,
          "metadata": {},
          "output_type": "execute_result"
        }
      ],
      "source": [
        "draw_stimulus(include_source=True, n_background_dots=30*30, n_source_dots=50, source_sd=10, source_border=20, width=400, height=400)"
      ]
    },
    {
      "cell_type": "markdown",
      "metadata": {
        "id": "xDWZZc9v2LBA"
      },
      "source": [
        "Finally, here is one where it is pretty hard to tell that there is a cluster at all (oh but there is one involving only 20 dots!):"
      ]
    },
    {
      "cell_type": "code",
      "execution_count": null,
      "metadata": {
        "colab": {
          "referenced_widgets": [
            "6959cae305124d19bf400f5d8837e40f"
          ]
        },
        "id": "TF8aUoHM2LBC",
        "outputId": "89c60d61-6084-4980-8805-26d210f6bf91"
      },
      "outputs": [
        {
          "data": {
            "application/vnd.jupyter.widget-view+json": {
              "model_id": "6959cae305124d19bf400f5d8837e40f",
              "version_major": 2,
              "version_minor": 0
            },
            "text/plain": [
              "Canvas(height=425, layout=Layout(grid_area='canvas'), width=425)"
            ]
          },
          "execution_count": 14,
          "metadata": {},
          "output_type": "execute_result"
        }
      ],
      "source": [
        "draw_stimulus(include_source=True, n_background_dots=30*30, n_source_dots=20, source_sd=10, source_border=20, width=400, height=400)"
      ]
    },
    {
      "cell_type": "markdown",
      "metadata": {
        "id": "Rh03Pm1M2LBE"
      },
      "source": [
        "Your job in the experiment will be to view stimuli such as the ones above and judge if you think there is a cluster/tumor present in the image.  It can often be hard to tell because even in the random dots there can be little clusters of dots that group together.  Just try to do your best.  Notice that there is a red \"absent\" button and a green \"present\" button.  You should press \"absent\" if you think the cluster/tumor is not there, and press \"present\" if you think it is there.\n",
        "\n",
        "Before running the next cell set the subject number to your NYU netid (I will anonymize this later but will let me check that everyone has done the experiment)."
      ]
    },
    {
      "cell_type": "markdown",
      "metadata": {
        "id": "b01uft562LBF"
      },
      "source": [
        "## Run the Experiment!"
      ]
    },
    {
      "cell_type": "code",
      "execution_count": null,
      "metadata": {
        "colab": {
          "base_uri": "https://localhost:8080/",
          "height": 200
        },
        "id": "xF5iPTB92LBG",
        "outputId": "0a147f65-dac3-43cf-acb4-13df36fcbdf7"
      },
      "outputs": [
        {
          "output_type": "error",
          "ename": "NameError",
          "evalue": "ignored",
          "traceback": [
            "\u001b[0;31m---------------------------------------------------------------------------\u001b[0m",
            "\u001b[0;31mNameError\u001b[0m                                 Traceback (most recent call last)",
            "\u001b[0;32m<ipython-input-10-0571729e1974>\u001b[0m in \u001b[0;36m<module>\u001b[0;34m\u001b[0m\n\u001b[1;32m      1\u001b[0m \u001b[0msubject_number\u001b[0m \u001b[0;34m=\u001b[0m \u001b[0;34m'tg35'\u001b[0m \u001b[0;31m# set your subject number here\u001b[0m\u001b[0;34m\u001b[0m\u001b[0;34m\u001b[0m\u001b[0m\n\u001b[0;32m----> 2\u001b[0;31m \u001b[0mexp\u001b[0m \u001b[0;34m=\u001b[0m \u001b[0mDetection_Experiment\u001b[0m\u001b[0;34m(\u001b[0m\u001b[0msubject_number\u001b[0m\u001b[0;34m)\u001b[0m\u001b[0;34m\u001b[0m\u001b[0;34m\u001b[0m\u001b[0m\n\u001b[0m\u001b[1;32m      3\u001b[0m \u001b[0mexp\u001b[0m\u001b[0;34m.\u001b[0m\u001b[0mstart_experiment\u001b[0m\u001b[0;34m(\u001b[0m\u001b[0;34m)\u001b[0m\u001b[0;34m\u001b[0m\u001b[0;34m\u001b[0m\u001b[0m\n",
            "\u001b[0;31mNameError\u001b[0m: name 'Detection_Experiment' is not defined"
          ]
        }
      ],
      "source": [
        "subject_number = 'tg35' # set your subject number here\n",
        "exp = Detection_Experiment(subject_number)\n",
        "exp.start_experiment()"
      ]
    },
    {
      "cell_type": "markdown",
      "metadata": {
        "id": "WCJMYRbY2LBI"
      },
      "source": [
        "## Getting the data"
      ]
    },
    {
      "cell_type": "markdown",
      "metadata": {
        "id": "6ZlefdCc2LBJ"
      },
      "source": [
        "After you run the experiment, the data will be output to a .csv file tied to your subject number.  Also it is available as as pandas data frame in the current kernel environment as `exp.trials`:"
      ]
    },
    {
      "cell_type": "code",
      "execution_count": null,
      "metadata": {
        "id": "HLShpG5z2LBK",
        "outputId": "e4c6ef06-71df-43b3-a27b-848c5c3ccbf0"
      },
      "outputs": [
        {
          "data": {
            "text/html": [
              "<div>\n",
              "<style scoped>\n",
              "    .dataframe tbody tr th:only-of-type {\n",
              "        vertical-align: middle;\n",
              "    }\n",
              "\n",
              "    .dataframe tbody tr th {\n",
              "        vertical-align: top;\n",
              "    }\n",
              "\n",
              "    .dataframe thead th {\n",
              "        text-align: right;\n",
              "    }\n",
              "</style>\n",
              "<table border=\"1\" class=\"dataframe\">\n",
              "  <thead>\n",
              "    <tr style=\"text-align: right;\">\n",
              "      <th></th>\n",
              "      <th>signal_present</th>\n",
              "      <th>signal_type</th>\n",
              "      <th>trial_num</th>\n",
              "      <th>button_position</th>\n",
              "      <th>subject_number</th>\n",
              "    </tr>\n",
              "  </thead>\n",
              "  <tbody>\n",
              "    <tr>\n",
              "      <th>0</th>\n",
              "      <td>1</td>\n",
              "      <td>60</td>\n",
              "      <td>0</td>\n",
              "      <td>right</td>\n",
              "      <td>tg35</td>\n",
              "    </tr>\n",
              "    <tr>\n",
              "      <th>1</th>\n",
              "      <td>1</td>\n",
              "      <td>10</td>\n",
              "      <td>1</td>\n",
              "      <td>right</td>\n",
              "      <td>tg35</td>\n",
              "    </tr>\n",
              "    <tr>\n",
              "      <th>2</th>\n",
              "      <td>1</td>\n",
              "      <td>10</td>\n",
              "      <td>2</td>\n",
              "      <td>right</td>\n",
              "      <td>tg35</td>\n",
              "    </tr>\n",
              "    <tr>\n",
              "      <th>3</th>\n",
              "      <td>1</td>\n",
              "      <td>15</td>\n",
              "      <td>3</td>\n",
              "      <td>right</td>\n",
              "      <td>tg35</td>\n",
              "    </tr>\n",
              "    <tr>\n",
              "      <th>4</th>\n",
              "      <td>0</td>\n",
              "      <td>0</td>\n",
              "      <td>4</td>\n",
              "      <td>right</td>\n",
              "      <td>tg35</td>\n",
              "    </tr>\n",
              "  </tbody>\n",
              "</table>\n",
              "</div>"
            ],
            "text/plain": [
              "   signal_present  signal_type  trial_num button_position subject_number\n",
              "0               1           60          0           right           tg35\n",
              "1               1           10          1           right           tg35\n",
              "2               1           10          2           right           tg35\n",
              "3               1           15          3           right           tg35\n",
              "4               0            0          4           right           tg35"
            ]
          },
          "execution_count": 16,
          "metadata": {},
          "output_type": "execute_result"
        }
      ],
      "source": [
        "exp.trials.head()\n"
      ]
    },
    {
      "cell_type": "code",
      "execution_count": null,
      "metadata": {
        "id": "PgIm7foq2LBM"
      },
      "outputs": [],
      "source": [
        "import os\n",
        "\n",
        "filenames=['../../../shared/sdt-lab/'+f for f in os.listdir('../../../shared/sdt-lab/') if not f.startswith('.')]\n",
        "filenames\n",
        "df=pd.concat([pd.read_csv(f) for f in filenames])\n",
        "\n"
      ]
    },
    {
      "cell_type": "code",
      "execution_count": null,
      "metadata": {
        "id": "xMluXCLv2LBN",
        "outputId": "5ad0ba1a-9052-4f0e-e54f-047e0f85b87f"
      },
      "outputs": [
        {
          "data": {
            "text/html": [
              "<div>\n",
              "<style scoped>\n",
              "    .dataframe tbody tr th:only-of-type {\n",
              "        vertical-align: middle;\n",
              "    }\n",
              "\n",
              "    .dataframe tbody tr th {\n",
              "        vertical-align: top;\n",
              "    }\n",
              "\n",
              "    .dataframe thead th {\n",
              "        text-align: right;\n",
              "    }\n",
              "</style>\n",
              "<table border=\"1\" class=\"dataframe\">\n",
              "  <thead>\n",
              "    <tr style=\"text-align: right;\">\n",
              "      <th></th>\n",
              "      <th>Unnamed: 0</th>\n",
              "      <th>signal_present</th>\n",
              "      <th>signal_type</th>\n",
              "      <th>trial_num</th>\n",
              "      <th>button_position</th>\n",
              "      <th>subject_number</th>\n",
              "      <th>responses</th>\n",
              "      <th>rt</th>\n",
              "      <th>correct_resp</th>\n",
              "    </tr>\n",
              "  </thead>\n",
              "  <tbody>\n",
              "    <tr>\n",
              "      <th>0</th>\n",
              "      <td>0</td>\n",
              "      <td>1</td>\n",
              "      <td>60</td>\n",
              "      <td>0</td>\n",
              "      <td>right</td>\n",
              "      <td>ch3633</td>\n",
              "      <td>1</td>\n",
              "      <td>16455.474</td>\n",
              "      <td>1</td>\n",
              "    </tr>\n",
              "    <tr>\n",
              "      <th>1</th>\n",
              "      <td>1</td>\n",
              "      <td>1</td>\n",
              "      <td>10</td>\n",
              "      <td>1</td>\n",
              "      <td>right</td>\n",
              "      <td>ch3633</td>\n",
              "      <td>1</td>\n",
              "      <td>5926.809</td>\n",
              "      <td>1</td>\n",
              "    </tr>\n",
              "    <tr>\n",
              "      <th>2</th>\n",
              "      <td>2</td>\n",
              "      <td>1</td>\n",
              "      <td>10</td>\n",
              "      <td>2</td>\n",
              "      <td>right</td>\n",
              "      <td>ch3633</td>\n",
              "      <td>0</td>\n",
              "      <td>3657.883</td>\n",
              "      <td>0</td>\n",
              "    </tr>\n",
              "    <tr>\n",
              "      <th>3</th>\n",
              "      <td>3</td>\n",
              "      <td>1</td>\n",
              "      <td>15</td>\n",
              "      <td>3</td>\n",
              "      <td>right</td>\n",
              "      <td>ch3633</td>\n",
              "      <td>0</td>\n",
              "      <td>2311.738</td>\n",
              "      <td>0</td>\n",
              "    </tr>\n",
              "    <tr>\n",
              "      <th>4</th>\n",
              "      <td>4</td>\n",
              "      <td>0</td>\n",
              "      <td>0</td>\n",
              "      <td>4</td>\n",
              "      <td>right</td>\n",
              "      <td>ch3633</td>\n",
              "      <td>0</td>\n",
              "      <td>13202.775</td>\n",
              "      <td>1</td>\n",
              "    </tr>\n",
              "    <tr>\n",
              "      <th>...</th>\n",
              "      <td>...</td>\n",
              "      <td>...</td>\n",
              "      <td>...</td>\n",
              "      <td>...</td>\n",
              "      <td>...</td>\n",
              "      <td>...</td>\n",
              "      <td>...</td>\n",
              "      <td>...</td>\n",
              "      <td>...</td>\n",
              "    </tr>\n",
              "    <tr>\n",
              "      <th>195</th>\n",
              "      <td>195</td>\n",
              "      <td>1</td>\n",
              "      <td>15</td>\n",
              "      <td>195</td>\n",
              "      <td>right</td>\n",
              "      <td>sq627</td>\n",
              "      <td>0</td>\n",
              "      <td>1735.790</td>\n",
              "      <td>0</td>\n",
              "    </tr>\n",
              "    <tr>\n",
              "      <th>196</th>\n",
              "      <td>196</td>\n",
              "      <td>0</td>\n",
              "      <td>0</td>\n",
              "      <td>196</td>\n",
              "      <td>right</td>\n",
              "      <td>sq627</td>\n",
              "      <td>0</td>\n",
              "      <td>1695.915</td>\n",
              "      <td>1</td>\n",
              "    </tr>\n",
              "    <tr>\n",
              "      <th>197</th>\n",
              "      <td>197</td>\n",
              "      <td>1</td>\n",
              "      <td>60</td>\n",
              "      <td>197</td>\n",
              "      <td>right</td>\n",
              "      <td>sq627</td>\n",
              "      <td>1</td>\n",
              "      <td>1320.913</td>\n",
              "      <td>1</td>\n",
              "    </tr>\n",
              "    <tr>\n",
              "      <th>198</th>\n",
              "      <td>198</td>\n",
              "      <td>1</td>\n",
              "      <td>15</td>\n",
              "      <td>198</td>\n",
              "      <td>right</td>\n",
              "      <td>sq627</td>\n",
              "      <td>1</td>\n",
              "      <td>1160.355</td>\n",
              "      <td>1</td>\n",
              "    </tr>\n",
              "    <tr>\n",
              "      <th>199</th>\n",
              "      <td>199</td>\n",
              "      <td>1</td>\n",
              "      <td>25</td>\n",
              "      <td>199</td>\n",
              "      <td>right</td>\n",
              "      <td>sq627</td>\n",
              "      <td>1</td>\n",
              "      <td>1159.178</td>\n",
              "      <td>1</td>\n",
              "    </tr>\n",
              "  </tbody>\n",
              "</table>\n",
              "<p>5000 rows × 9 columns</p>\n",
              "</div>"
            ],
            "text/plain": [
              "     Unnamed: 0  signal_present  signal_type  trial_num button_position  \\\n",
              "0             0               1           60          0           right   \n",
              "1             1               1           10          1           right   \n",
              "2             2               1           10          2           right   \n",
              "3             3               1           15          3           right   \n",
              "4             4               0            0          4           right   \n",
              "..          ...             ...          ...        ...             ...   \n",
              "195         195               1           15        195           right   \n",
              "196         196               0            0        196           right   \n",
              "197         197               1           60        197           right   \n",
              "198         198               1           15        198           right   \n",
              "199         199               1           25        199           right   \n",
              "\n",
              "    subject_number  responses         rt  correct_resp  \n",
              "0           ch3633          1  16455.474             1  \n",
              "1           ch3633          1   5926.809             1  \n",
              "2           ch3633          0   3657.883             0  \n",
              "3           ch3633          0   2311.738             0  \n",
              "4           ch3633          0  13202.775             1  \n",
              "..             ...        ...        ...           ...  \n",
              "195          sq627          0   1735.790             0  \n",
              "196          sq627          0   1695.915             1  \n",
              "197          sq627          1   1320.913             1  \n",
              "198          sq627          1   1160.355             1  \n",
              "199          sq627          1   1159.178             1  \n",
              "\n",
              "[5000 rows x 9 columns]"
            ]
          },
          "execution_count": 18,
          "metadata": {},
          "output_type": "execute_result"
        }
      ],
      "source": [
        "df"
      ]
    },
    {
      "cell_type": "markdown",
      "metadata": {
        "id": "lLRfsplw2LBP"
      },
      "source": [
        "## Experiment design\n",
        "\n",
        "In the experiment, you saw a number of trials where field of random colored and positioned dots appear.  On some trials a small \"cluster\" of points was added to the stimulus.  The number of dots in the cluster was manipulated across conditions so that it was more or less obvious that there was a cluster.  In some cases the number of dots within the cluster was so small that it was hard to detect it, but other cases it might have been more visually obvious.  This is very similar to the type of visual diagnosis that a doctor or airport screener might perform (deciding of a tumor or a gun is present in an image). Your task was to indicate if it was a \"stimulus/cluster present\" trial or a \"stimulus/cluster absent\" trial.  The computer recorded your response and your reaction time.\n",
        "\n",
        "An overview of the situation is shown here:"
      ]
    },
    {
      "cell_type": "markdown",
      "metadata": {
        "id": "zKyG_ENC2LBQ"
      },
      "source": [
        "### The things we manipulated!\n",
        "\n",
        "There were actually four different types of clusters shown on any given \"stimulus present\" trial. One was a **small** stimulus made up of 10 dots, one was a medium made up of 15 dots, one type of made up of 25, and finally one was  made up of 60 dots:\n",
        "\n",
        "<center>\n",
        "<img src=\"images/dots.png\" width=\"900\">\n",
        "</center>\n",
        "\n",
        "As the number of dots increases the general visibility of the cluster becomes more clear and easier to detect.\n",
        "\n",
        "In total there were 100 stimulus absent trials and 25 of each of the four types of stimulus present trials.  The purpose of this was so that a perfect subject with robot-quality vision would say \"yes\" half the time in the experiment so there is no overall bias toward one response.\n",
        "\n",
        "In this lab we are interested in analyzing the effect of strength of the stimulus cluster (i.e., number of dots) on the two signal detection variables we learned about in the previous lecture and lab."
      ]
    },
    {
      "cell_type": "markdown",
      "metadata": {
        "id": "PpVsiYwp2LBR"
      },
      "source": [
        "## Analysis Steps\n"
      ]
    },
    {
      "cell_type": "markdown",
      "metadata": {
        "id": "nR0ZWE7U2LBS"
      },
      "source": [
        "Remember from the previous lab that our model for signal detection looks something like this:\n",
        "<img src=\"http://gru.stanford.edu/lib/exe/fetch.php/tutorials/nobias.png?w=&h=&cache=cache\">\n",
        "\n",
        "and we showed how we can compute $d'$ and $c$ by computing only the number of false alarms and hits and subjecting those to a particular mathematical transformation.  In this case we actually have four stimulus conditions (10, 15, 25, or 60).  So our goal will be to compute the hits and false alarms **separately** for the two different types of stimuli.  This will mean that each person in our experiment will be described by eight numbers:\n",
        "\n",
        "- A d' (d-prime) under (10, 15, 25, 60) visibility cluster conditions\n",
        "- A c under (10, 15, 25, 60) visibility cluster conditions\n",
        "\n",
        "Once we have this we want to perform a simple hypothesis test.  Is performance, measured by d' higher in the high visibility conditions?  We have strong reason to suspect this is the case but it'll be a nice check of our understanding if we can related the abstract calculation we performed in the previous lab to answer this simple quesiton.\n",
        "\n",
        "Answering this question will push our skills at using pandas to organize our data, and using pingouin to compute a t-test."
      ]
    },
    {
      "cell_type": "markdown",
      "metadata": {
        "id": "wBgiIul-2LBT"
      },
      "source": [
        "<div class=\"alert alert-info\" role=\"alert\">\n",
        "  <strong>Question 1</strong> <br>\n",
        "    If we compute one $d'$ for each participant for each stimulus conditon and want to compare performance in the two conditions, what type of t-test should we most likely use?\n",
        "</div>"
      ]
    },
    {
      "cell_type": "markdown",
      "source": [
        "In this we are to use a double tailed T test so that we can be able to make sure that we have a comparison in the perfomance of the groups\n",
        "that we are looking at in the experiment that we are performing."
      ],
      "metadata": {
        "id": "RFqish3Ya__Y"
      }
    },
    {
      "cell_type": "code",
      "source": [],
      "metadata": {
        "id": "3P_xtsSy9rYn"
      },
      "execution_count": null,
      "outputs": []
    },
    {
      "cell_type": "markdown",
      "metadata": {
        "id": "2o5oPQu32LBU"
      },
      "source": [
        "<div class=\"alert alert-warning\" role=\"alert\">\n",
        "  <strong>Your Answer</strong> <br>\n",
        "  Enter your plan for the analysis as a markdown cell.\n",
        "</div>"
      ]
    },
    {
      "cell_type": "code",
      "source": [],
      "metadata": {
        "id": "u6oelLkt83-E"
      },
      "execution_count": null,
      "outputs": []
    },
    {
      "cell_type": "markdown",
      "source": [
        "To conduct this analysis we are to make sure there is the data set that is correct. We ar eto make make the data by making sure we concatinate the different data sets that are given, Then we also make the columns or make a portion of the data so tha twe can be able to use it for the analysis. We are then to perform statistical analysis by making sure we evaluate the data that we have. After making the statistical analysis, we are to make the plots so that we make a comparison like an AB test hypothesis of the data that we are having. After this, we can make conclusion of the data that we are havin by making sure we infer with the analysis that we have made, to be able to come up with the correct analysis and conclusion at the end."
      ],
      "metadata": {
        "id": "qUemu_NY86Hs"
      }
    },
    {
      "cell_type": "markdown",
      "metadata": {
        "id": "agB8ZPnA2LBV"
      },
      "source": [
        "<div class=\"alert alert-info\" role=\"alert\">\n",
        "  <strong>Question 2</strong> <br>\n",
        "    To begin we want to read in the data from each participant into a pandas data frame using `pd.read_csv()` and the used `pd.concat()` to combine them.   After you read in the data, inspect the columns and check the data for any inconsistencies that might affect our analysis (e.g., subjects who didn't perform any trials, etc...).\n",
        "</div>"
      ]
    },
    {
      "cell_type": "markdown",
      "metadata": {
        "id": "Wp0erAoS2LBW"
      },
      "source": [
        "<div class=\"alert alert-warning\" role=\"alert\">\n",
        "  <strong>Your Answer</strong> <br>\n",
        "  Enter your code here.\n",
        "</div>\n",
        "\n"
      ]
    },
    {
      "cell_type": "code",
      "source": [
        "df = pd.read_csv (file_names)\n",
        "print(df)"
      ],
      "metadata": {
        "id": "idLNhabO-I_b"
      },
      "execution_count": null,
      "outputs": []
    },
    {
      "cell_type": "markdown",
      "metadata": {
        "id": "T1qALH_02LBX"
      },
      "source": [
        "As a reminder the following show a simple for loop (called a list comprehension) that lets you get the filenames for the lab data set.  You can use this to find the file names that you need to read in with `pd.read_csv()`.  If you need a reminder refer back to your mental rotation lab which should be on your Jupyterhub node still!"
      ]
    },
    {
      "cell_type": "code",
      "execution_count": null,
      "metadata": {
        "id": "nyIX2Tv12LBY"
      },
      "outputs": [],
      "source": [
        "# this is an example list comprehension which reads in the all the files.\n",
        "# the f.startswith() part just gets rid of any junk files in that folder\n",
        "filenames=['sdt1-data/'+f for f in os.listdir('sdt1-data') if not f.startswith('.')]"
      ]
    },
    {
      "cell_type": "markdown",
      "metadata": {
        "id": "D-UezXg62LBZ"
      },
      "source": [
        "<div class=\"alert alert-success\" role=\"alert\">\n",
        "  <strong>Stop and share</strong> <br>\n",
        "  Did you find any interesting or important points about the data that you want to share with the class?  Let's get everyone on the same page so we get similar results so if you find something important (good or bad) please take a moment and share!\n",
        "</div>"
      ]
    },
    {
      "cell_type": "markdown",
      "metadata": {
        "id": "Qm6DtJHY2LBa"
      },
      "source": [
        "<div class=\"alert alert-info\" role=\"alert\">\n",
        "  <strong>Question 3</strong> <br>\n",
        "    Now that we have the analysis dataframe let's perform our planned analysis on a single subject.  Create a new dataframe, subselecting from the main frame with the data from a single subject.\n",
        "</div>"
      ]
    },
    {
      "cell_type": "markdown",
      "metadata": {
        "id": "6pLliuOm2LBa"
      },
      "source": [
        "<div class=\"alert alert-warning\" role=\"alert\">\n",
        "  <strong>Your Answer</strong> <br>\n",
        "  Enter your code here.\n",
        "</div>"
      ]
    },
    {
      "cell_type": "code",
      "source": [
        "df.loc[0:3]"
      ],
      "metadata": {
        "id": "qvqs3LOkCy-m"
      },
      "execution_count": null,
      "outputs": []
    },
    {
      "cell_type": "markdown",
      "metadata": {
        "id": "865PEDCt2LBb"
      },
      "source": [
        "<div class=\"alert alert-info\" role=\"alert\">\n",
        "  <strong>Question 4</strong> <br>\n",
        "    Referring back to the first notebook from the lab compute the hits and false alarms for this subject for each stimulus present condition.  One note about the false alarms: remember that false alarms are trials where the stimulus was absent but the subject said it was present.  There is only one type of these trials in the experiment.  So when you compute the statistics you really will create five numbers of this participant.  The hits for each of the stimulus present conditions, and an overall false alarm rate.  What are these numbers for this subject?  Remember also that if you take the `mean()` of a column of 0/1 values it will tell you the proportion of those trials which are 1.\n",
        "</div>"
      ]
    },
    {
      "cell_type": "markdown",
      "metadata": {
        "id": "s4Djvgu02LBc"
      },
      "source": [
        "<div class=\"alert alert-warning\" role=\"alert\">\n",
        "  <strong>Your Answer</strong> <br>\n",
        "  Enter your code here.\n",
        "</div>"
      ]
    },
    {
      "cell_type": "code",
      "source": [
        "# generate data sample\n",
        "data = rand(1000)\n",
        "# calculate quartiles\n",
        "quartiles = percentile(data, [25, 50, 75])\n",
        "# calculate min/max\n",
        "data_min, data_max = data.min(), data.max()\n",
        "# print 5-number summary\n",
        "print('Min: %.3f' % data_min)\n",
        "print('Q1: %.3f' % quartiles[0])\n",
        "print('Median: %.3f' % quartiles[1])\n",
        "print('Q3: %.3f' % quartiles[2])\n",
        "print('Max: %.3f' % data_max)"
      ],
      "metadata": {
        "id": "KKysfuUCF8hp"
      },
      "execution_count": null,
      "outputs": []
    },
    {
      "cell_type": "markdown",
      "metadata": {
        "id": "FQZoMoLO2LBe"
      },
      "source": [
        "<div class=\"alert alert-info\" role=\"alert\">\n",
        "  <strong>Question 5</strong> <br>\n",
        "    Ok now compute the d' and c values for this subject.  Refer back to the previous notebook for reference if you need the equations and python code.  What can you tell from looking at your computed values?  If for some reason you can't compute these values in your experiment (e.g., if the subject has no hits or no false alarms) then try question 4 again with a different subject.\n",
        "</div>"
      ]
    },
    {
      "cell_type": "markdown",
      "metadata": {
        "id": "zMJmR7OQ2LBf"
      },
      "source": [
        "<div class=\"alert alert-warning\" role=\"alert\">\n",
        "  <strong>Your Answer</strong> <br>\n",
        "  Enter your code here.\n",
        "</div>"
      ]
    },
    {
      "cell_type": "code",
      "source": [],
      "metadata": {
        "id": "FZlo1NKkXYLq"
      },
      "execution_count": null,
      "outputs": []
    },
    {
      "cell_type": "code",
      "source": [
        "def helper(n):\n",
        "   p = n\n",
        "   i = 2\n",
        "   while i * i <= n:\n",
        "      if n % i == 0:\n",
        "         p -= p // i\n",
        "      while n % i == 0:\n",
        "         n = n // i\n",
        "      if i != 2:\n",
        "         i += 2\n",
        "      else:\n",
        "         i += 1\n",
        "   if n > 1:\n",
        "      p -= p // n\n",
        "   return p\n",
        "\n",
        "def solve(a, b, c, d, n):\n",
        "   if b == 0 or (c == 0 and d != 0):\n",
        "      return pow(a, 0, n)\n",
        "   if c == 1 or d == 0:\n",
        "      return pow(a, b, n)\n",
        "   if a == 0 or a % n == 0:\n",
        "      return 0\n",
        "   if d == 1:\n",
        "      return pow(a, b * c, n)\n",
        "   p = helper(n)\n",
        "   e = pow(c, d, p) + p\n",
        "   return pow(pow(a, b, n), e, n)\n",
        "\n",
        "print(solve(2, 3, 2, 4, 10))"
      ],
      "metadata": {
        "colab": {
          "base_uri": "https://localhost:8080/"
        },
        "id": "WgqwhjU4XXsS",
        "outputId": "1f8c114b-49a0-4379-c07e-0add64a06c77"
      },
      "execution_count": null,
      "outputs": [
        {
          "output_type": "stream",
          "name": "stdout",
          "text": [
            "6\n"
          ]
        }
      ]
    },
    {
      "cell_type": "code",
      "source": [],
      "metadata": {
        "id": "EXDT5rPsF9hj"
      },
      "execution_count": null,
      "outputs": []
    },
    {
      "cell_type": "markdown",
      "metadata": {
        "id": "bdQXppX62LBg"
      },
      "source": [
        "<div class=\"alert alert-info\" role=\"alert\">\n",
        "  <strong>Question 6</strong> <br>\n",
        "    Ok, so now you have performed the desired analysis for one subject.  You have computed eight numbers for that subject described above.  Now we want to repeat this for each subject. There are two ways to do this.  One is using the pandas groupby() function.  This is somewhat of the advanced mode version but if you do this you can probably perform the analysis in only 5-6 lines of code.  An alternative approach is to generalize the code you just wrote to use a for loop that iterates over each subject in the data frame.  Which ever way you choose you might find it helpful to refer to the <a href=\"http://gureckislab.org/courses/fall19/labincp/tips/fortyforloops.html\">Forty For Loops</a> notebook I provided which shows some example templates for using for loops to analyze individual subject data in pandas dataframes.  The end result is that you want a dataframe containing the d' and c' for each subject for each stimulus condition.\n",
        "</div>"
      ]
    },
    {
      "cell_type": "markdown",
      "metadata": {
        "id": "4n93e6I82LBh"
      },
      "source": [
        "<div class=\"alert alert-warning\" role=\"alert\">\n",
        "  <strong>Your Answer</strong> <br>\n",
        "  Enter your code here.\n",
        "</div>"
      ]
    },
    {
      "cell_type": "code",
      "source": [
        "## Perform a 2 T test\n",
        "\n",
        "\n",
        "import scipy.stats as stats\n",
        "\n",
        "# Creating data groups\n",
        "data_group1 = np.array([14, 15, 15, 16, 13, 8, 14,\n",
        "                        17, 16, 14, 19, 20, 21, 15,\n",
        "                        15, 16, 16, 13, 14, 12])\n",
        "\n",
        "data_group2 = np.array([15, 17, 14, 17, 14, 8, 12,\n",
        "                        19, 19, 14, 17, 22, 24, 16,\n",
        "                        13, 16, 13, 18, 15, 13])\n",
        "\n",
        "# Perform the two sample t-test with equal variances\n",
        "stats.ttest_ind(a=data_group1, b=data_group2, equal_var=True)"
      ],
      "metadata": {
        "colab": {
          "base_uri": "https://localhost:8080/"
        },
        "id": "-_ss8-X7F-Jw",
        "outputId": "de8249e6-47cf-4abb-dbb4-37d6d70a32e4"
      },
      "execution_count": null,
      "outputs": [
        {
          "output_type": "execute_result",
          "data": {
            "text/plain": [
              "Ttest_indResult(statistic=-0.6337397070250238, pvalue=0.5300471010405257)"
            ]
          },
          "metadata": {},
          "execution_count": 11
        }
      ]
    },
    {
      "cell_type": "code",
      "source": [
        "# Python program to conduct two-sample\n",
        "# T-test using pingouin library\n",
        "\n",
        "# Importing library\n",
        "from statsmodels.stats.weightstats import ttest_ind\n",
        "import numpy as np\n",
        "import pingouin as pg\n",
        "\n",
        "# Creating data groups\n",
        "data_group1 = np.array([160, 150, 160, 156.12, 163.24,\n",
        "                        160.56, 168.56, 174.12,\n",
        "                        167.123, 165.12])\n",
        "data_group2 = np.array([157.97, 146, 140.2, 170.15,\n",
        "                        167.34, 176.123, 162.35, 159.123,\n",
        "                        169.43, 148.123])\n",
        "\n",
        "# Conducting two-sample ttest\n",
        "result = pg.ttest(data_group1,\n",
        "                  data_group2,\n",
        "                  correction=True)\n",
        "\n",
        "# Print the result\n",
        "print(result)\n"
      ],
      "metadata": {
        "colab": {
          "base_uri": "https://localhost:8080/"
        },
        "id": "VoEKHhJSUlRj",
        "outputId": "afc290cf-c600-41f3-9a33-f721c3237a2e"
      },
      "execution_count": null,
      "outputs": [
        {
          "output_type": "stream",
          "name": "stdout",
          "text": [
            "               T        dof alternative     p-val           CI95%   cohen-d  \\\n",
            "T-test  0.653148  14.389477   two-sided  0.523961  [-6.38, 11.99]  0.292097   \n",
            "\n",
            "         BF10     power  \n",
            "T-test  0.462  0.094912  \n"
          ]
        }
      ]
    },
    {
      "cell_type": "markdown",
      "metadata": {
        "id": "AQvrgOs72LBj"
      },
      "source": [
        "<div class=\"alert alert-info\" role=\"alert\">\n",
        "  <strong>Question 7</strong> <br>\n",
        "    Now that you have your summary statistics computed, our next step is to ask if the conditions are different on either the d' or c measure.  For now concentrate on the easiest and hardest conditions to see if there is a effect in the most dissimilar conditions.  Then compare the hardest and second hardest conditions. Conduct the appropriate t-test to tell if these conditions are different.  The chapter reading from this week has all the code you need.  However you might find it helpful to refer to the pingouin documentation for the <a href=\"https://pingouin-stats.org/generated/pingouin.ttest.html#pingouin.ttest\">t-test function</a>.\n",
        "</div>"
      ]
    },
    {
      "cell_type": "markdown",
      "metadata": {
        "id": "JP0LCnVf2LBk"
      },
      "source": [
        "<div class=\"alert alert-warning\" role=\"alert\">\n",
        "  <strong>Your Answer</strong> <br>\n",
        "  Enter your code here.\n",
        "</div>"
      ]
    },
    {
      "cell_type": "code",
      "source": [
        "# Python program to conduct\n",
        "# two-sample t-test using statsmodels\n",
        "\n",
        "# Importing library\n",
        "from statsmodels.stats.weightstats import ttest_ind\n",
        "import numpy as np\n",
        "import pingouin as pg\n",
        "\n",
        "# Creating data groups\n",
        "data_group1 = np.array([160, 150, 160, 156.12,\n",
        "                        163.24,\n",
        "                        160.56, 168.56, 174.12,\n",
        "                        167.123, 165.12])\n",
        "data_group2 = np.array([157.97, 146, 140.2, 170.15,\n",
        "                        167.34, 176.123, 162.35,\n",
        "                        159.123, 169.43, 148.123])\n",
        "\n",
        "# Conducting two-sample ttest\n",
        "ttest_ind(data_group1, data_group2)"
      ],
      "metadata": {
        "colab": {
          "base_uri": "https://localhost:8080/"
        },
        "id": "XbhOhSnOF_SF",
        "outputId": "8021238a-3058-4582-ebd9-7aff0938bd35"
      },
      "execution_count": null,
      "outputs": [
        {
          "output_type": "execute_result",
          "data": {
            "text/plain": [
              "(0.6531479162158739, 0.5219170107019715, 18.0)"
            ]
          },
          "metadata": {},
          "execution_count": 13
        }
      ]
    },
    {
      "cell_type": "markdown",
      "metadata": {
        "id": "OgWTUZ3v2LBl"
      },
      "source": [
        "<div class=\"alert alert-info\" role=\"alert\">\n",
        "  <strong>Question 8 (BONUS)</strong> <br>\n",
        "    This question is a bonus but asks you to verify the assumptions of the chosen t-test hold.  Usually this involves looking to see that the distribution of scores you are analyzing are roughly \"normally\" distributed.  The textbook showed a few example way to check including the histogram, the qqplot, and the Shapiro-Wilks test.  Perform this test on your data.  If the data seem very non-normal you might consider switching your t-test to the non-parametric alternative discussed in the chapter (the wilcoxon or Mahn-Whitney test).\n",
        "</div>"
      ]
    },
    {
      "cell_type": "markdown",
      "metadata": {
        "id": "RAIaG48J2LBm"
      },
      "source": [
        "<div class=\"alert alert-warning\" role=\"alert\">\n",
        "  <strong>Your Answer</strong> <br>\n",
        "  Enter your code here.\n",
        "</div>"
      ]
    },
    {
      "cell_type": "markdown",
      "source": [
        "Regarding the scale of measurement of the data plots that we are having in this case, whether there is a random sampling, normality of data distribution that is the plots of data that we have, adequacy of sample size, and equality of variance in standard deviation."
      ],
      "metadata": {
        "id": "bQqRUEStTTdw"
      }
    },
    {
      "cell_type": "code",
      "source": [],
      "metadata": {
        "id": "QX26utjPF__m"
      },
      "execution_count": null,
      "outputs": []
    },
    {
      "cell_type": "markdown",
      "metadata": {
        "id": "Jj5yDaow2LBn"
      },
      "source": [
        "<div class=\"alert alert-info\" role=\"alert\">\n",
        "  <strong>Question 9</strong> <br>\n",
        "  Ok great job!  You have your data, you have your t-test, you have everything you need to answer the following questions: 1. Is performance higher in the low number of dots or high number of dots condition?  How do you know?  How would you report the statistical evidence in favor of your conclusion in a paper?  Is the criterion different between the conditions?  How do you know?  Overall was performance high or low in this task?\n",
        "</div>"
      ]
    },
    {
      "cell_type": "markdown",
      "metadata": {
        "id": "PELWpRhI2LBo"
      },
      "source": [
        "<div class=\"alert alert-warning\" role=\"alert\">\n",
        "  <strong>Your Answer</strong> <br>\n",
        "  Enter your Markdown text here.\n",
        "</div>"
      ]
    },
    {
      "cell_type": "markdown",
      "source": [
        "In the analysis we have done it is quite clear to us that we have:\n",
        "1. The performance in the lower number of dots. HTis is known as we have the visuaoazaton of the plotss that are in the adta that we hhave. the statistical evidene of this is dome by plotting of teh AB test of hypothesis data plot. THis is clear by the diagram that is shown above as we draw the conclusion of the data from the statisical analysis of the data.\n",
        "the cretirion that us used is a little different when we are to plot on the codnitions that are relevant to the ones that are there in the data that is given.\n",
        "Thi is eveident by the D' calculation of the statisctic. It is actually different in the hypothesis test taht is conducted in every statisctical package that are given.\n",
        "And the perfomance overal in this was low, as compared to the one of the statistical data as we look at the one for the AB analysis."
      ],
      "metadata": {
        "id": "bcvLUgsaQ7Rz"
      }
    },
    {
      "cell_type": "code",
      "source": [],
      "metadata": {
        "id": "dm5tlSE8GAg8"
      },
      "execution_count": null,
      "outputs": []
    },
    {
      "cell_type": "markdown",
      "metadata": {
        "id": "O9psLjWO2LBp"
      },
      "source": [
        "<div class=\"alert alert-info\" role=\"alert\">\n",
        "  <strong>Question 10</strong> <br>\n",
        "  The final question asks you to consider limitations to this experiment design.  What other analyses might be interesting to perform on this data?  If you could change the experiment is there another type of question you would ask?\n",
        "</div>"
      ]
    },
    {
      "cell_type": "markdown",
      "metadata": {
        "id": "4OzRTvls2LBq"
      },
      "source": [
        "<div class=\"alert alert-warning\" role=\"alert\">\n",
        "  <strong>Your Answer</strong> <br>\n",
        "  Enter your Markdown text here.\n",
        "</div>"
      ]
    },
    {
      "cell_type": "markdown",
      "source": [
        "In this experiment, the consideration of the points of the data could be to make sure that there is an AB testing so that we are able to\n",
        "make a better comparison of the data. Also it is also important to make sure that we have proper hypothesis testing."
      ],
      "metadata": {
        "id": "A8RJqzlC-K_s"
      }
    }
  ],
  "metadata": {
    "celltoolbar": "Tags",
    "kernel_info": {
      "name": "python3"
    },
    "kernelspec": {
      "display_name": "Python [conda env:cognition]",
      "language": "python",
      "name": "conda-env-cognition-py"
    },
    "language_info": {
      "codemirror_mode": {
        "name": "ipython",
        "version": 3
      },
      "file_extension": ".py",
      "mimetype": "text/x-python",
      "name": "python",
      "nbconvert_exporter": "python",
      "pygments_lexer": "ipython3",
      "version": "3.7.12"
    },
    "nteract": {
      "version": "0.15.0"
    },
    "toc": {
      "base_numbering": 1,
      "nav_menu": {},
      "number_sections": true,
      "sideBar": true,
      "skip_h1_title": false,
      "title_cell": "Table of Contents",
      "title_sidebar": "Contents",
      "toc_cell": false,
      "toc_position": {},
      "toc_section_display": true,
      "toc_window_display": false
    },
    "colab": {
      "provenance": [],
      "include_colab_link": true
    },
    "widgets": {
      "application/vnd.jupyter.widget-state+json": {
        "cfd1d2a29ea44671903760fe5aede67f": {
          "model_module": "@jupyter-widgets/controls",
          "model_name": "VBoxModel",
          "model_module_version": "1.5.0",
          "state": {
            "_dom_classes": [
              "widget-interact"
            ],
            "_model_module": "@jupyter-widgets/controls",
            "_model_module_version": "1.5.0",
            "_model_name": "VBoxModel",
            "_view_count": null,
            "_view_module": "@jupyter-widgets/controls",
            "_view_module_version": "1.5.0",
            "_view_name": "VBoxView",
            "box_style": "",
            "children": [
              "IPY_MODEL_d602bcadaff74c688ea7f0ef3d361ac6",
              "IPY_MODEL_604dc9a2e4a74e4aa6ad04c8f1b4539a"
            ],
            "layout": "IPY_MODEL_3a202ecb8a7d411f8752bd9b3a044097"
          }
        },
        "d602bcadaff74c688ea7f0ef3d361ac6": {
          "model_module": "@jupyter-widgets/controls",
          "model_name": "IntSliderModel",
          "model_module_version": "1.5.0",
          "state": {
            "_dom_classes": [],
            "_model_module": "@jupyter-widgets/controls",
            "_model_module_version": "1.5.0",
            "_model_name": "IntSliderModel",
            "_view_count": null,
            "_view_module": "@jupyter-widgets/controls",
            "_view_module_version": "1.5.0",
            "_view_name": "IntSliderView",
            "continuous_update": true,
            "description": "dots",
            "description_tooltip": null,
            "disabled": false,
            "layout": "IPY_MODEL_93c38e52871148f9b42aa7347ce99f74",
            "max": 75,
            "min": 1,
            "orientation": "horizontal",
            "readout": true,
            "readout_format": "d",
            "step": 5,
            "style": "IPY_MODEL_54711469d8ec43cf99bee2cd779fa17b",
            "value": 36
          }
        },
        "604dc9a2e4a74e4aa6ad04c8f1b4539a": {
          "model_module": "@jupyter-widgets/output",
          "model_name": "OutputModel",
          "model_module_version": "1.0.0",
          "state": {
            "_dom_classes": [],
            "_model_module": "@jupyter-widgets/output",
            "_model_module_version": "1.0.0",
            "_model_name": "OutputModel",
            "_view_count": null,
            "_view_module": "@jupyter-widgets/output",
            "_view_module_version": "1.0.0",
            "_view_name": "OutputView",
            "layout": "IPY_MODEL_ae0c5c47f5fb48cbae4e680d7a3f04f4",
            "msg_id": "",
            "outputs": [
              {
                "output_type": "error",
                "ename": "NameError",
                "evalue": "ignored",
                "traceback": [
                  "\u001b[0;31m---------------------------------------------------------------------------\u001b[0m",
                  "\u001b[0;31mNameError\u001b[0m                                 Traceback (most recent call last)",
                  "\u001b[0;32m/usr/local/lib/python3.8/dist-packages/ipywidgets/widgets/interaction.py\u001b[0m in \u001b[0;36mupdate\u001b[0;34m(self, *args)\u001b[0m\n\u001b[1;32m    255\u001b[0m                     \u001b[0mvalue\u001b[0m \u001b[0;34m=\u001b[0m \u001b[0mwidget\u001b[0m\u001b[0;34m.\u001b[0m\u001b[0mget_interact_value\u001b[0m\u001b[0;34m(\u001b[0m\u001b[0;34m)\u001b[0m\u001b[0;34m\u001b[0m\u001b[0;34m\u001b[0m\u001b[0m\n\u001b[1;32m    256\u001b[0m                     \u001b[0mself\u001b[0m\u001b[0;34m.\u001b[0m\u001b[0mkwargs\u001b[0m\u001b[0;34m[\u001b[0m\u001b[0mwidget\u001b[0m\u001b[0;34m.\u001b[0m\u001b[0m_kwarg\u001b[0m\u001b[0;34m]\u001b[0m \u001b[0;34m=\u001b[0m \u001b[0mvalue\u001b[0m\u001b[0;34m\u001b[0m\u001b[0;34m\u001b[0m\u001b[0m\n\u001b[0;32m--> 257\u001b[0;31m                 \u001b[0mself\u001b[0m\u001b[0;34m.\u001b[0m\u001b[0mresult\u001b[0m \u001b[0;34m=\u001b[0m \u001b[0mself\u001b[0m\u001b[0;34m.\u001b[0m\u001b[0mf\u001b[0m\u001b[0;34m(\u001b[0m\u001b[0;34m**\u001b[0m\u001b[0mself\u001b[0m\u001b[0;34m.\u001b[0m\u001b[0mkwargs\u001b[0m\u001b[0;34m)\u001b[0m\u001b[0;34m\u001b[0m\u001b[0;34m\u001b[0m\u001b[0m\n\u001b[0m\u001b[1;32m    258\u001b[0m                 \u001b[0mshow_inline_matplotlib_plots\u001b[0m\u001b[0;34m(\u001b[0m\u001b[0;34m)\u001b[0m\u001b[0;34m\u001b[0m\u001b[0;34m\u001b[0m\u001b[0m\n\u001b[1;32m    259\u001b[0m                 \u001b[0;32mif\u001b[0m \u001b[0mself\u001b[0m\u001b[0;34m.\u001b[0m\u001b[0mauto_display\u001b[0m \u001b[0;32mand\u001b[0m \u001b[0mself\u001b[0m\u001b[0;34m.\u001b[0m\u001b[0mresult\u001b[0m \u001b[0;32mis\u001b[0m \u001b[0;32mnot\u001b[0m \u001b[0;32mNone\u001b[0m\u001b[0;34m:\u001b[0m\u001b[0;34m\u001b[0m\u001b[0;34m\u001b[0m\u001b[0m\n",
                  "\u001b[0;32m<ipython-input-7-a188ce8302a6>\u001b[0m in \u001b[0;36mdraw_stimulus\u001b[0;34m(dots)\u001b[0m\n\u001b[1;32m      1\u001b[0m \u001b[0;34m@\u001b[0m\u001b[0mwidgets\u001b[0m\u001b[0;34m.\u001b[0m\u001b[0minteract\u001b[0m\u001b[0;34m(\u001b[0m\u001b[0mdots\u001b[0m\u001b[0;34m=\u001b[0m\u001b[0;34m(\u001b[0m\u001b[0;36m1\u001b[0m\u001b[0;34m,\u001b[0m\u001b[0;36m75\u001b[0m\u001b[0;34m,\u001b[0m \u001b[0;36m5\u001b[0m\u001b[0;34m)\u001b[0m\u001b[0;34m)\u001b[0m\u001b[0;34m\u001b[0m\u001b[0;34m\u001b[0m\u001b[0m\n\u001b[1;32m      2\u001b[0m \u001b[0;32mdef\u001b[0m \u001b[0mdraw_stimulus\u001b[0m\u001b[0;34m(\u001b[0m\u001b[0mdots\u001b[0m\u001b[0;34m)\u001b[0m\u001b[0;34m:\u001b[0m\u001b[0;34m\u001b[0m\u001b[0;34m\u001b[0m\u001b[0m\n\u001b[0;32m----> 3\u001b[0;31m     \u001b[0;32mreturn\u001b[0m \u001b[0mdraw_stimulus\u001b[0m\u001b[0;34m(\u001b[0m\u001b[0minclude_source\u001b[0m\u001b[0;34m=\u001b[0m\u001b[0;32mTrue\u001b[0m\u001b[0;34m,\u001b[0m \u001b[0mn_background_dots\u001b[0m\u001b[0;34m=\u001b[0m\u001b[0;36m0\u001b[0m\u001b[0;34m,\u001b[0m \u001b[0mn_source_dots\u001b[0m\u001b[0;34m=\u001b[0m\u001b[0mdots\u001b[0m\u001b[0;34m,\u001b[0m \u001b[0msource_sd\u001b[0m\u001b[0;34m=\u001b[0m\u001b[0;36m10\u001b[0m\u001b[0;34m,\u001b[0m \u001b[0msource_border\u001b[0m\u001b[0;34m=\u001b[0m\u001b[0;36m20\u001b[0m\u001b[0;34m,\u001b[0m \u001b[0mwidth\u001b[0m\u001b[0;34m=\u001b[0m\u001b[0;36m400\u001b[0m\u001b[0;34m,\u001b[0m \u001b[0mheight\u001b[0m\u001b[0;34m=\u001b[0m\u001b[0;36m400\u001b[0m\u001b[0;34m)\u001b[0m\u001b[0;34m\u001b[0m\u001b[0;34m\u001b[0m\u001b[0m\n\u001b[0m",
                  "\u001b[0;31mNameError\u001b[0m: name 'draw_stimulus' is not defined"
                ]
              }
            ]
          }
        },
        "3a202ecb8a7d411f8752bd9b3a044097": {
          "model_module": "@jupyter-widgets/base",
          "model_name": "LayoutModel",
          "model_module_version": "1.2.0",
          "state": {
            "_model_module": "@jupyter-widgets/base",
            "_model_module_version": "1.2.0",
            "_model_name": "LayoutModel",
            "_view_count": null,
            "_view_module": "@jupyter-widgets/base",
            "_view_module_version": "1.2.0",
            "_view_name": "LayoutView",
            "align_content": null,
            "align_items": null,
            "align_self": null,
            "border": null,
            "bottom": null,
            "display": null,
            "flex": null,
            "flex_flow": null,
            "grid_area": null,
            "grid_auto_columns": null,
            "grid_auto_flow": null,
            "grid_auto_rows": null,
            "grid_column": null,
            "grid_gap": null,
            "grid_row": null,
            "grid_template_areas": null,
            "grid_template_columns": null,
            "grid_template_rows": null,
            "height": null,
            "justify_content": null,
            "justify_items": null,
            "left": null,
            "margin": null,
            "max_height": null,
            "max_width": null,
            "min_height": null,
            "min_width": null,
            "object_fit": null,
            "object_position": null,
            "order": null,
            "overflow": null,
            "overflow_x": null,
            "overflow_y": null,
            "padding": null,
            "right": null,
            "top": null,
            "visibility": null,
            "width": null
          }
        },
        "93c38e52871148f9b42aa7347ce99f74": {
          "model_module": "@jupyter-widgets/base",
          "model_name": "LayoutModel",
          "model_module_version": "1.2.0",
          "state": {
            "_model_module": "@jupyter-widgets/base",
            "_model_module_version": "1.2.0",
            "_model_name": "LayoutModel",
            "_view_count": null,
            "_view_module": "@jupyter-widgets/base",
            "_view_module_version": "1.2.0",
            "_view_name": "LayoutView",
            "align_content": null,
            "align_items": null,
            "align_self": null,
            "border": null,
            "bottom": null,
            "display": null,
            "flex": null,
            "flex_flow": null,
            "grid_area": null,
            "grid_auto_columns": null,
            "grid_auto_flow": null,
            "grid_auto_rows": null,
            "grid_column": null,
            "grid_gap": null,
            "grid_row": null,
            "grid_template_areas": null,
            "grid_template_columns": null,
            "grid_template_rows": null,
            "height": null,
            "justify_content": null,
            "justify_items": null,
            "left": null,
            "margin": null,
            "max_height": null,
            "max_width": null,
            "min_height": null,
            "min_width": null,
            "object_fit": null,
            "object_position": null,
            "order": null,
            "overflow": null,
            "overflow_x": null,
            "overflow_y": null,
            "padding": null,
            "right": null,
            "top": null,
            "visibility": null,
            "width": null
          }
        },
        "54711469d8ec43cf99bee2cd779fa17b": {
          "model_module": "@jupyter-widgets/controls",
          "model_name": "SliderStyleModel",
          "model_module_version": "1.5.0",
          "state": {
            "_model_module": "@jupyter-widgets/controls",
            "_model_module_version": "1.5.0",
            "_model_name": "SliderStyleModel",
            "_view_count": null,
            "_view_module": "@jupyter-widgets/base",
            "_view_module_version": "1.2.0",
            "_view_name": "StyleView",
            "description_width": "",
            "handle_color": null
          }
        },
        "ae0c5c47f5fb48cbae4e680d7a3f04f4": {
          "model_module": "@jupyter-widgets/base",
          "model_name": "LayoutModel",
          "model_module_version": "1.2.0",
          "state": {
            "_model_module": "@jupyter-widgets/base",
            "_model_module_version": "1.2.0",
            "_model_name": "LayoutModel",
            "_view_count": null,
            "_view_module": "@jupyter-widgets/base",
            "_view_module_version": "1.2.0",
            "_view_name": "LayoutView",
            "align_content": null,
            "align_items": null,
            "align_self": null,
            "border": null,
            "bottom": null,
            "display": null,
            "flex": null,
            "flex_flow": null,
            "grid_area": null,
            "grid_auto_columns": null,
            "grid_auto_flow": null,
            "grid_auto_rows": null,
            "grid_column": null,
            "grid_gap": null,
            "grid_row": null,
            "grid_template_areas": null,
            "grid_template_columns": null,
            "grid_template_rows": null,
            "height": null,
            "justify_content": null,
            "justify_items": null,
            "left": null,
            "margin": null,
            "max_height": null,
            "max_width": null,
            "min_height": null,
            "min_width": null,
            "object_fit": null,
            "object_position": null,
            "order": null,
            "overflow": null,
            "overflow_x": null,
            "overflow_y": null,
            "padding": null,
            "right": null,
            "top": null,
            "visibility": null,
            "width": null
          }
        }
      }
    }
  },
  "nbformat": 4,
  "nbformat_minor": 0
}